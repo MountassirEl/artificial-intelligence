{
 "cells": [
  {
   "attachments": {},
   "cell_type": "markdown",
   "metadata": {},
   "source": [
    "# Introduction\n",
    "\n",
    "In this project, we embark on a journey to implement one of the pioneering deep learning architectures - LeNet-5. Developed by Yann LeCun, Léon Bottou, Yoshua Bengio, and Patrick Haffner, LeNet-5 is renowned for its significant contributions to the field of document recognition and image classification.\n",
    "\n",
    "LeNet-5 is a convolutional neural network (CNN) that revolutionized the way we approach pattern recognition tasks. It introduced the concept of convolutional layers, which are crucial for automatically learning features from input data, eliminating the need for manually engineered features.\n",
    "\n",
    "Our goal in this implementation is to delve into the inner workings of LeNet-5, understand its architecture, and apply it to recognize hand written  digits. By doing so, we aim to leverage the power of automatic feature learning and reduce the dependency on handcrafted features, aligning with the principles outlined in the paper **\"Gradient-Based Learning Applied to Document Recognition\"** by Lecun et al."
   ]
  },
  {
   "attachments": {},
   "cell_type": "markdown",
   "metadata": {},
   "source": [
    "# MNIST Dataset"
   ]
  },
  {
   "cell_type": "code",
   "execution_count": 1,
   "metadata": {},
   "outputs": [
    {
     "name": "stdout",
     "output_type": "stream",
     "text": [
      "train:  60000\n",
      "test:  10000\n"
     ]
    }
   ],
   "source": [
    "from torchvision.datasets import MNIST\n",
    "\n",
    "train_data = MNIST('data/', train=True, download=True, transform=None)\n",
    "test_data = MNIST('data/', train=False, download=True, transform=None)\n",
    "\n",
    "print(\"train: \", len(train_data))\n",
    "print(\"test: \", len(test_data))"
   ]
  },
  {
   "cell_type": "code",
   "execution_count": 2,
   "metadata": {},
   "outputs": [
    {
     "data": {
      "image/png": "[encoded data removed]",
      "text/plain": [
       "<Figure size 1000x300 with 10 Axes>"
      ]
     },
     "metadata": {},
     "output_type": "display_data"
    }
   ],
   "source": [
    "import matplotlib.pyplot as plt\n",
    "import numpy as np\n",
    "\n",
    "fig, axes = plt.subplots(1, 10, figsize=(10, 3))\n",
    "for i in range(10):\n",
    "    img, label = train_data[i]\n",
    "    axes[i].imshow(np.array(img), cmap='gray')\n",
    "    axes[i].set_title(label)\n",
    "    axes[i].axis('off')\n",
    "plt.show()"
   ]
  },
  {
   "attachments": {},
   "cell_type": "markdown",
   "metadata": {},
   "source": [
    "# LeNet-5 Architecture"
   ]
  },
  {
   "attachments": {},
   "cell_type": "markdown",
   "metadata": {},
   "source": [
    "<div align=\"center\">\n",
    "<img src=\"./resources/LeNet-5.png\">\n",
    "</div>"
   ]
  },
  {
   "attachments": {},
   "cell_type": "markdown",
   "metadata": {},
   "source": [
    "The original research paper: \n",
    "* uses trainable subsampling layers, which in my opinion adds unnecessary complexity to the architecture and can be replaced with simple `max pooling` layers.\n",
    "* uses Euclidean Radial Basis Function units (RBF) to compute the output, which in my opinion adds unnecessary complexity to the architecture and can be replaced with a simple `Linear` layer followed by a `softmax` layer."
   ]
  },
  {
   "cell_type": "code",
   "execution_count": 4,
   "metadata": {},
   "outputs": [],
   "source": [
    "import torch.nn as nn\n",
    "\n",
    "class LeNet(nn.Module):\n",
    "    \"\"\"\n",
    "    LeNet model for image classification.\n",
    "\n",
    "    This implementation follows the architecture described in the original LeNet-5 paper by Yann LeCun.\n",
    "\n",
    "    Args:\n",
    "        None\n",
    "\n",
    "    Attributes:\n",
    "        conv (nn.Sequential): Sequential module for convolutional layers.\n",
    "        fc (nn.Sequential): Sequential module for fully connected layers.\n",
    "\n",
    "    Methods:\n",
    "        forward(x): Forward pass through the network.\n",
    "\n",
    "    \"\"\"\n",
    "\n",
    "    def __init__(self):\n",
    "        super(LeNet, self).__init__()\n",
    "        self.conv = nn.Sequential(\n",
    "            nn.Conv2d(1, 6, 5),     # C1\n",
    "            nn.MaxPool2d(2, 2),     # S2\n",
    "            nn.Conv2d(6, 16, 5),    # C3\n",
    "            nn.MaxPool2d(2, 2),     # S4\n",
    "            nn.Conv2d(16, 120, 5),  # C5\n",
    "        )\n",
    "        self.fc = nn.Sequential(\n",
    "            nn.Linear(120, 84),     # F6\n",
    "            nn.Linear(84, 10),      # logits\n",
    "        )\n",
    "\n",
    "    def forward(self, x):\n",
    "        \"\"\"\n",
    "        Forward pass through the LeNet model.\n",
    "\n",
    "        Args:\n",
    "            x (torch.Tensor): Input tensor of shape (batch_size, channels, height, width).\n",
    "\n",
    "        Returns:\n",
    "            torch.Tensor: Output tensor of shape (batch_size, num_classes).\n",
    "\n",
    "        \"\"\"\n",
    "        x = self.conv(x)\n",
    "        x = x.view(x.size(0), -1)\n",
    "        x = self.fc(x)\n",
    "        return x\n"
   ]
  },
  {
   "cell_type": "code",
   "execution_count": 5,
   "metadata": {},
   "outputs": [
    {
     "name": "stdout",
     "output_type": "stream",
     "text": [
      "----------------------------------------------------------------\n",
      "        Layer (type)               Output Shape         Param #\n",
      "================================================================\n",
      "            Conv2d-1            [-1, 6, 28, 28]             156\n",
      "         MaxPool2d-2            [-1, 6, 14, 14]               0\n",
      "            Conv2d-3           [-1, 16, 10, 10]           2,416\n",
      "         MaxPool2d-4             [-1, 16, 5, 5]               0\n",
      "            Conv2d-5            [-1, 120, 1, 1]          48,120\n",
      "            Linear-6                   [-1, 84]          10,164\n",
      "            Linear-7                   [-1, 10]             850\n",
      "================================================================\n",
      "Total params: 61,706\n",
      "Trainable params: 61,706\n",
      "Non-trainable params: 0\n",
      "----------------------------------------------------------------\n",
      "Input size (MB): 0.00\n",
      "Forward/backward pass size (MB): 0.06\n",
      "Params size (MB): 0.24\n",
      "Estimated Total Size (MB): 0.30\n",
      "----------------------------------------------------------------\n"
     ]
    }
   ],
   "source": [
    "from torchsummary import summary\n",
    "\n",
    "# Create a model instance\n",
    "lenet = LeNet()\n",
    "\n",
    "# Visualize a summary of the model\n",
    "summary(lenet, input_size = (1, 32, 32))"
   ]
  },
  {
   "attachments": {},
   "cell_type": "markdown",
   "metadata": {},
   "source": [
    "# Training"
   ]
  },
  {
   "attachments": {},
   "cell_type": "markdown",
   "metadata": {},
   "source": [
    "Transform the input data into a `torch.Tensor` and normalize it."
   ]
  },
  {
   "cell_type": "code",
   "execution_count": 6,
   "metadata": {},
   "outputs": [],
   "source": [
    "from torchvision.transforms import ToTensor, Compose, Resize\n",
    "\n",
    "# Define your data transformations and DataLoader here\n",
    "transform = Compose([\n",
    "    Resize((32, 32)),\n",
    "    ToTensor()\n",
    "])\n",
    "\n",
    "# Apply the transformations to your data\n",
    "train_data = MNIST('data/', train=True, download=True, transform=transform)\n",
    "test_data = MNIST('data/', train=False, download=True, transform=transform)"
   ]
  },
  {
   "attachments": {},
   "cell_type": "markdown",
   "metadata": {},
   "source": [
    "To train the model, we first need to normalize the images and convert them to tensors."
   ]
  },
  {
   "cell_type": "code",
   "execution_count": 7,
   "metadata": {},
   "outputs": [],
   "source": [
    "import torch.nn as nn\n",
    "import torch.optim as optim\n",
    "from torch.utils.data import DataLoader\n",
    "\n",
    "# Define a training function\n",
    "def train(model, train_loader, num_epochs, learning_rate):\n",
    "    \"\"\"\n",
    "    Train a neural network model using the specified training data.\n",
    "\n",
    "    Parameters:\n",
    "    - model (torch.nn.Module): The neural network model to be trained.\n",
    "    - train_loader (torch.utils.data.DataLoader): DataLoader containing the training data.\n",
    "    - num_epochs (int): The number of training epochs.\n",
    "    - learning_rate (float): The learning rate for the optimizer.\n",
    "\n",
    "    Returns:\n",
    "    None\n",
    "    \"\"\"\n",
    "    # Define loss function and optimizer\n",
    "    criterion = nn.CrossEntropyLoss()\n",
    "    optimizer = optim.SGD(model.parameters(), lr=learning_rate)\n",
    "\n",
    "    # Training loop\n",
    "    for epoch in range(num_epochs):\n",
    "        model.train()  # Set the model to training mode\n",
    "        running_loss = 0.0\n",
    "\n",
    "        for batch_idx, (inputs, targets) in enumerate(train_loader):\n",
    "            # Zero the gradient buffers\n",
    "            optimizer.zero_grad()\n",
    "\n",
    "            # Forward pass\n",
    "            outputs = model(inputs)\n",
    "\n",
    "            # Calculate loss\n",
    "            loss = criterion(outputs, targets)\n",
    "\n",
    "            # Backpropagation and optimization\n",
    "            loss.backward()\n",
    "            optimizer.step()\n",
    "\n",
    "            # Print statistics\n",
    "            running_loss += loss.item()\n",
    "            if batch_idx % 100 == 99:  # Print every 100 mini-batches\n",
    "                print(f'Epoch [{epoch + 1}/{num_epochs}], Batch [{batch_idx + 1}/{len(train_loader)}], Loss: {running_loss / 100:.4f}')\n",
    "                running_loss = 0.0\n",
    "    \n",
    "    print('Training finished.')"
   ]
  },
  {
   "cell_type": "code",
   "execution_count": 8,
   "metadata": {},
   "outputs": [
    {
     "name": "stdout",
     "output_type": "stream",
     "text": [
      "Epoch [1/10], Batch [100/938], Loss: 1.1597\n",
      "Epoch [1/10], Batch [200/938], Loss: 0.3763\n",
      "Epoch [1/10], Batch [300/938], Loss: 0.2808\n",
      "Epoch [1/10], Batch [400/938], Loss: 0.2260\n",
      "Epoch [1/10], Batch [500/938], Loss: 0.1771\n",
      "Epoch [1/10], Batch [600/938], Loss: 0.1548\n",
      "Epoch [1/10], Batch [700/938], Loss: 0.1572\n",
      "Epoch [1/10], Batch [800/938], Loss: 0.1258\n",
      "Epoch [1/10], Batch [900/938], Loss: 0.1228\n",
      "Epoch [2/10], Batch [100/938], Loss: 0.1005\n",
      "Epoch [2/10], Batch [200/938], Loss: 0.1159\n",
      "Epoch [2/10], Batch [300/938], Loss: 0.0961\n",
      "Epoch [2/10], Batch [400/938], Loss: 0.1041\n",
      "Epoch [2/10], Batch [500/938], Loss: 0.1027\n",
      "Epoch [2/10], Batch [600/938], Loss: 0.1115\n",
      "Epoch [2/10], Batch [700/938], Loss: 0.1007\n",
      "Epoch [2/10], Batch [800/938], Loss: 0.0934\n",
      "Epoch [2/10], Batch [900/938], Loss: 0.0991\n",
      "Epoch [3/10], Batch [100/938], Loss: 0.0868\n",
      "Epoch [3/10], Batch [200/938], Loss: 0.0807\n",
      "Epoch [3/10], Batch [300/938], Loss: 0.0844\n",
      "Epoch [3/10], Batch [400/938], Loss: 0.0788\n",
      "Epoch [3/10], Batch [500/938], Loss: 0.0778\n",
      "Epoch [3/10], Batch [600/938], Loss: 0.0812\n",
      "Epoch [3/10], Batch [700/938], Loss: 0.0769\n",
      "Epoch [3/10], Batch [800/938], Loss: 0.0768\n",
      "Epoch [3/10], Batch [900/938], Loss: 0.0842\n",
      "Epoch [4/10], Batch [100/938], Loss: 0.0712\n",
      "Epoch [4/10], Batch [200/938], Loss: 0.0617\n",
      "Epoch [4/10], Batch [300/938], Loss: 0.0672\n",
      "Epoch [4/10], Batch [400/938], Loss: 0.0672\n",
      "Epoch [4/10], Batch [500/938], Loss: 0.0831\n",
      "Epoch [4/10], Batch [600/938], Loss: 0.0702\n",
      "Epoch [4/10], Batch [700/938], Loss: 0.0678\n",
      "Epoch [4/10], Batch [800/938], Loss: 0.0761\n",
      "Epoch [4/10], Batch [900/938], Loss: 0.0728\n",
      "Epoch [5/10], Batch [100/938], Loss: 0.0643\n",
      "Epoch [5/10], Batch [200/938], Loss: 0.0583\n",
      "Epoch [5/10], Batch [300/938], Loss: 0.0584\n",
      "Epoch [5/10], Batch [400/938], Loss: 0.0580\n",
      "Epoch [5/10], Batch [500/938], Loss: 0.0697\n",
      "Epoch [5/10], Batch [600/938], Loss: 0.0664\n",
      "Epoch [5/10], Batch [700/938], Loss: 0.0529\n",
      "Epoch [5/10], Batch [800/938], Loss: 0.0694\n",
      "Epoch [5/10], Batch [900/938], Loss: 0.0602\n",
      "Epoch [6/10], Batch [100/938], Loss: 0.0662\n",
      "Epoch [6/10], Batch [200/938], Loss: 0.0577\n",
      "Epoch [6/10], Batch [300/938], Loss: 0.0650\n",
      "Epoch [6/10], Batch [400/938], Loss: 0.0458\n",
      "Epoch [6/10], Batch [500/938], Loss: 0.0544\n",
      "Epoch [6/10], Batch [600/938], Loss: 0.0614\n",
      "Epoch [6/10], Batch [700/938], Loss: 0.0559\n",
      "Epoch [6/10], Batch [800/938], Loss: 0.0502\n",
      "Epoch [6/10], Batch [900/938], Loss: 0.0591\n",
      "Epoch [7/10], Batch [100/938], Loss: 0.0517\n",
      "Epoch [7/10], Batch [200/938], Loss: 0.0607\n",
      "Epoch [7/10], Batch [300/938], Loss: 0.0435\n",
      "Epoch [7/10], Batch [400/938], Loss: 0.0605\n",
      "Epoch [7/10], Batch [500/938], Loss: 0.0475\n",
      "Epoch [7/10], Batch [600/938], Loss: 0.0472\n",
      "Epoch [7/10], Batch [700/938], Loss: 0.0461\n",
      "Epoch [7/10], Batch [800/938], Loss: 0.0507\n",
      "Epoch [7/10], Batch [900/938], Loss: 0.0585\n",
      "Epoch [8/10], Batch [100/938], Loss: 0.0432\n",
      "Epoch [8/10], Batch [200/938], Loss: 0.0449\n",
      "Epoch [8/10], Batch [300/938], Loss: 0.0431\n",
      "Epoch [8/10], Batch [400/938], Loss: 0.0458\n",
      "Epoch [8/10], Batch [500/938], Loss: 0.0464\n",
      "Epoch [8/10], Batch [600/938], Loss: 0.0500\n",
      "Epoch [8/10], Batch [700/938], Loss: 0.0545\n",
      "Epoch [8/10], Batch [800/938], Loss: 0.0538\n",
      "Epoch [8/10], Batch [900/938], Loss: 0.0514\n",
      "Epoch [9/10], Batch [100/938], Loss: 0.0327\n",
      "Epoch [9/10], Batch [200/938], Loss: 0.0432\n",
      "Epoch [9/10], Batch [300/938], Loss: 0.0477\n",
      "Epoch [9/10], Batch [400/938], Loss: 0.0478\n",
      "Epoch [9/10], Batch [500/938], Loss: 0.0472\n",
      "Epoch [9/10], Batch [600/938], Loss: 0.0460\n",
      "Epoch [9/10], Batch [700/938], Loss: 0.0433\n",
      "Epoch [9/10], Batch [800/938], Loss: 0.0508\n",
      "Epoch [9/10], Batch [900/938], Loss: 0.0437\n",
      "Epoch [10/10], Batch [100/938], Loss: 0.0406\n",
      "Epoch [10/10], Batch [200/938], Loss: 0.0357\n",
      "Epoch [10/10], Batch [300/938], Loss: 0.0359\n",
      "Epoch [10/10], Batch [400/938], Loss: 0.0370\n",
      "Epoch [10/10], Batch [500/938], Loss: 0.0377\n",
      "Epoch [10/10], Batch [600/938], Loss: 0.0505\n",
      "Epoch [10/10], Batch [700/938], Loss: 0.0508\n",
      "Epoch [10/10], Batch [800/938], Loss: 0.0432\n",
      "Epoch [10/10], Batch [900/938], Loss: 0.0515\n",
      "Training finished.\n"
     ]
    }
   ],
   "source": [
    "# Define the train data loader\n",
    "train_loader = DataLoader(train_data, batch_size=64, shuffle=True)\n",
    "\n",
    "# Create a model instance\n",
    "model = LeNet()\n",
    "num_epochs = 10\n",
    "learning_rate = 0.1\n",
    "\n",
    "train(model, train_loader, num_epochs, learning_rate)"
   ]
  },
  {
   "attachments": {},
   "cell_type": "markdown",
   "metadata": {},
   "source": [
    "# Testing"
   ]
  },
  {
   "cell_type": "code",
   "execution_count": 9,
   "metadata": {},
   "outputs": [],
   "source": [
    "import torch\n",
    "\n",
    "# Define a test function\n",
    "def test(model, test_loader):\n",
    "    \"\"\"\n",
    "    Evaluate a trained neural network model on the specified test data and calculate accuracy.\n",
    "\n",
    "    Parameters:\n",
    "    - model (torch.nn.Module): The trained neural network model to be evaluated.\n",
    "    - test_loader (torch.utils.data.DataLoader): DataLoader containing the test data.\n",
    "\n",
    "    Returns:\n",
    "    None\n",
    "    \"\"\"\n",
    "    model.eval()  # Set the model to evaluation mode\n",
    "    correct = 0\n",
    "    total = 0\n",
    "\n",
    "    with torch.no_grad():  # Disable gradient calculation during inference\n",
    "        for inputs, targets in test_loader:\n",
    "            # Forward pass\n",
    "            outputs = model(inputs)\n",
    "\n",
    "            # Get predicted labels\n",
    "            _, predicted = torch.max(outputs, 1)\n",
    "\n",
    "            # Update counts for correct and total predictions\n",
    "            total += targets.size(0)\n",
    "            correct += (predicted == targets).sum().item()\n",
    "\n",
    "    accuracy = 100 * correct / total\n",
    "    print(f'Test Accuracy: {accuracy:.2f}%')"
   ]
  },
  {
   "cell_type": "code",
   "execution_count": 10,
   "metadata": {},
   "outputs": [
    {
     "name": "stdout",
     "output_type": "stream",
     "text": [
      "Test Accuracy: 98.42%\n"
     ]
    }
   ],
   "source": [
    "# Define the test data loader\n",
    "test_loader = DataLoader(test_data, batch_size=64, shuffle=False)\n",
    "\n",
    "test(model, test_loader)"
   ]
  },
  {
   "cell_type": "code",
   "execution_count": 11,
   "metadata": {},
   "outputs": [
    {
     "data": {
      "image/png": "[encoded data removed]",
      "text/plain": [
       "<Figure size 1600x300 with 10 Axes>"
      ]
     },
     "metadata": {},
     "output_type": "display_data"
    }
   ],
   "source": [
    "# visualize the model's predictions\n",
    "import matplotlib.pyplot as plt\n",
    "import numpy as np\n",
    "\n",
    "# Get a batch of test data\n",
    "inputs, targets = next(iter(test_loader))\n",
    "\n",
    "# Forward pass\n",
    "outputs = model(inputs)\n",
    "\n",
    "# Get predicted labels\n",
    "_, predicted = torch.max(outputs, 1)\n",
    "\n",
    "# Prepare plot\n",
    "fig, axes = plt.subplots(1, 10, figsize=(16, 3))\n",
    "\n",
    "# Adjust spacing between subplots\n",
    "fig.subplots_adjust(wspace=1)\n",
    "\n",
    "# Plot sample outputs\n",
    "for i in range(10):\n",
    "    axes[i].imshow(np.array(inputs[i, 0]), cmap='gray')\n",
    "    axes[i].set_title(f'Predicted: {predicted[i]}')\n",
    "    axes[i].axis('off')\n",
    "plt.show()"
   ]
  }
 ],
 "metadata": {
  "kernelspec": {
   "display_name": "Python 3",
   "language": "python",
   "name": "python3"
  },
  "language_info": {
   "codemirror_mode": {
    "name": "ipython",
    "version": 3
   },
   "file_extension": ".py",
   "mimetype": "text/x-python",
   "name": "python",
   "nbconvert_exporter": "python",
   "pygments_lexer": "ipython3",
   "version": "3.10.9"
  },
  "orig_nbformat": 4
 },
 "nbformat": 4,
 "nbformat_minor": 2
}
